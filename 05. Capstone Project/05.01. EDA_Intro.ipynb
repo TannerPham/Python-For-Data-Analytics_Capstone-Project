{
 "cells": [
  {
   "cell_type": "markdown",
   "metadata": {},
   "source": [
    "# Exploratory Data Analysis (EDA) & Intro"
   ]
  },
  {
   "cell_type": "markdown",
   "metadata": {},
   "source": [
    "## Objectives"
   ]
  },
  {
   "cell_type": "markdown",
   "metadata": {},
   "source": [
    "1. Investigate top-paying roles and skills in the data science industry.\n",
    "2. Use Python to explore a real-live dataset on job postings.\n",
    "3. Draw meaningfull insights to help job seekers find the best job opportunities across SEA countries"
   ]
  },
  {
   "cell_type": "markdown",
   "metadata": {},
   "source": [
    "## Final Deliverables"
   ]
  },
  {
   "cell_type": "markdown",
   "metadata": {},
   "source": [
    "- Create Jupyter Notebooks showcasing core data skills in Python.\n",
    "- Create a summary page (via [README.md](./05.05.%20README.md)) capture the key findings\n",
    "- Share the project via GitHub, LinkedIn and Maven's Showcase Platform."
   ]
  },
  {
   "cell_type": "markdown",
   "metadata": {},
   "source": [
    "## Questions to answer"
   ]
  },
  {
   "cell_type": "markdown",
   "metadata": {},
   "source": [
    "1. What are the top 5 in-demand skills for the top 3 most popular data roles in SEA countries?\n",
    "2. How are in-demand skills trending for Data Analysts in SEA countries?\n",
    "3. What are the most well-paid data jobs and what are the most well-paid data skills for Data Analysts in SEA countries?\n",
    "4. What is the most optimal skills to learn for Data Analysts (Highly sought-after and Well-paid) in SEA countries ?\n",
    "5. "
   ]
  },
  {
   "cell_type": "markdown",
   "metadata": {},
   "source": [
    "## Exploratory Data Analysis for all data roles"
   ]
  },
  {
   "cell_type": "code",
   "execution_count": 1,
   "metadata": {},
   "outputs": [
    {
     "name": "stderr",
     "output_type": "stream",
     "text": [
      "c:\\Users\\Pham Duc Toan\\AppData\\Local\\Programs\\Python\\Python311\\Lib\\site-packages\\tqdm\\auto.py:21: TqdmWarning: IProgress not found. Please update jupyter and ipywidgets. See https://ipywidgets.readthedocs.io/en/stable/user_install.html\n",
      "  from .autonotebook import tqdm as notebook_tqdm\n"
     ]
    }
   ],
   "source": [
    "# Importing Libraries\n",
    "import pandas as pd\n",
    "from datasets import load_dataset\n",
    "import seaborn as sns\n",
    "import matplotlib.pyplot as plt  \n",
    "import ast\n",
    "\n",
    "# Loading Data\n",
    "dataset = load_dataset('lukebarousse/data_jobs')\n",
    "df = dataset['train'].to_pandas()\n",
    "\n",
    "# Data Cleanup\n",
    "df['job_posted_date'] = pd.to_datetime(df['job_posted_date'])\n",
    "df['job_skills'] = df['job_skills'].apply(lambda x: ast.literal_eval(x) if pd.notna(x) else x)\n"
   ]
  },
  {
   "cell_type": "markdown",
   "metadata": {},
   "source": [
    "## Exploratory Data Analysis for Data Analysts in SEA countries"
   ]
  },
  {
   "cell_type": "code",
   "execution_count": 7,
   "metadata": {},
   "outputs": [],
   "source": [
    "asean_countries = ['Vietnam', 'Thailand','Malaysia','Philippines','Indonesia','Laos','Cambodia','Myanmar','Singapore']"
   ]
  },
  {
   "cell_type": "markdown",
   "metadata": {},
   "source": [
    "1. Filter for `US Data Analyst` roles"
   ]
  },
  {
   "cell_type": "code",
   "execution_count": 8,
   "metadata": {},
   "outputs": [
    {
     "data": {
      "text/html": [
       "<div>\n",
       "<style scoped>\n",
       "    .dataframe tbody tr th:only-of-type {\n",
       "        vertical-align: middle;\n",
       "    }\n",
       "\n",
       "    .dataframe tbody tr th {\n",
       "        vertical-align: top;\n",
       "    }\n",
       "\n",
       "    .dataframe thead th {\n",
       "        text-align: right;\n",
       "    }\n",
       "</style>\n",
       "<table border=\"1\" class=\"dataframe\">\n",
       "  <thead>\n",
       "    <tr style=\"text-align: right;\">\n",
       "      <th></th>\n",
       "      <th>job_title_short</th>\n",
       "      <th>job_title</th>\n",
       "      <th>job_location</th>\n",
       "      <th>job_via</th>\n",
       "      <th>job_schedule_type</th>\n",
       "      <th>job_work_from_home</th>\n",
       "      <th>search_location</th>\n",
       "      <th>job_posted_date</th>\n",
       "      <th>job_no_degree_mention</th>\n",
       "      <th>job_health_insurance</th>\n",
       "      <th>job_country</th>\n",
       "      <th>salary_rate</th>\n",
       "      <th>salary_year_avg</th>\n",
       "      <th>salary_hour_avg</th>\n",
       "      <th>company_name</th>\n",
       "      <th>job_skills</th>\n",
       "      <th>job_type_skills</th>\n",
       "    </tr>\n",
       "  </thead>\n",
       "  <tbody>\n",
       "    <tr>\n",
       "      <th>76</th>\n",
       "      <td>Data Analyst</td>\n",
       "      <td>Data Analyst - 14785091749</td>\n",
       "      <td>Anywhere</td>\n",
       "      <td>via Jobgether</td>\n",
       "      <td>Full-time</td>\n",
       "      <td>True</td>\n",
       "      <td>Philippines</td>\n",
       "      <td>2023-08-26 13:13:26</td>\n",
       "      <td>False</td>\n",
       "      <td>False</td>\n",
       "      <td>Philippines</td>\n",
       "      <td>None</td>\n",
       "      <td>NaN</td>\n",
       "      <td>NaN</td>\n",
       "      <td>Support Shepherd</td>\n",
       "      <td>[sql, python, r, excel, tableau, power bi]</td>\n",
       "      <td>{'analyst_tools': ['excel', 'tableau', 'power ...</td>\n",
       "    </tr>\n",
       "    <tr>\n",
       "      <th>101</th>\n",
       "      <td>Data Analyst</td>\n",
       "      <td>Data Analyst</td>\n",
       "      <td>Singapore</td>\n",
       "      <td>via BeBee Singapore</td>\n",
       "      <td>Full-time</td>\n",
       "      <td>False</td>\n",
       "      <td>Singapore</td>\n",
       "      <td>2023-12-20 13:15:45</td>\n",
       "      <td>True</td>\n",
       "      <td>False</td>\n",
       "      <td>Singapore</td>\n",
       "      <td>None</td>\n",
       "      <td>NaN</td>\n",
       "      <td>NaN</td>\n",
       "      <td>Moovaz</td>\n",
       "      <td>[sql]</td>\n",
       "      <td>{'programming': ['sql']}</td>\n",
       "    </tr>\n",
       "    <tr>\n",
       "      <th>244</th>\n",
       "      <td>Data Analyst</td>\n",
       "      <td>Data Analyst</td>\n",
       "      <td>Singapore</td>\n",
       "      <td>via Singapore | JobsDB</td>\n",
       "      <td>Full-time</td>\n",
       "      <td>False</td>\n",
       "      <td>Singapore</td>\n",
       "      <td>2023-10-11 13:17:59</td>\n",
       "      <td>True</td>\n",
       "      <td>False</td>\n",
       "      <td>Singapore</td>\n",
       "      <td>None</td>\n",
       "      <td>NaN</td>\n",
       "      <td>NaN</td>\n",
       "      <td>SATS</td>\n",
       "      <td>[sql, nosql, azure, power bi]</td>\n",
       "      <td>{'analyst_tools': ['power bi'], 'cloud': ['azu...</td>\n",
       "    </tr>\n",
       "    <tr>\n",
       "      <th>328</th>\n",
       "      <td>Data Analyst</td>\n",
       "      <td>Finance Data Analyst</td>\n",
       "      <td>Sepang, Selangor, Malaysia</td>\n",
       "      <td>via Trabajo.org</td>\n",
       "      <td>Full-time</td>\n",
       "      <td>False</td>\n",
       "      <td>Malaysia</td>\n",
       "      <td>2023-07-14 13:11:55</td>\n",
       "      <td>True</td>\n",
       "      <td>False</td>\n",
       "      <td>Malaysia</td>\n",
       "      <td>None</td>\n",
       "      <td>NaN</td>\n",
       "      <td>NaN</td>\n",
       "      <td>AirAsia</td>\n",
       "      <td>[sql, excel]</td>\n",
       "      <td>{'analyst_tools': ['excel'], 'programming': ['...</td>\n",
       "    </tr>\n",
       "    <tr>\n",
       "      <th>416</th>\n",
       "      <td>Data Analyst</td>\n",
       "      <td>Data Analyst</td>\n",
       "      <td>Cebu City, Cebu, Philippines</td>\n",
       "      <td>via Trabajo.org</td>\n",
       "      <td>Full-time</td>\n",
       "      <td>False</td>\n",
       "      <td>Philippines</td>\n",
       "      <td>2023-02-28 13:29:02</td>\n",
       "      <td>True</td>\n",
       "      <td>False</td>\n",
       "      <td>Philippines</td>\n",
       "      <td>None</td>\n",
       "      <td>NaN</td>\n",
       "      <td>NaN</td>\n",
       "      <td>LegalMatch.com</td>\n",
       "      <td>[sql, javascript, python, java, excel, looker,...</td>\n",
       "      <td>{'analyst_tools': ['excel', 'looker', 'tableau...</td>\n",
       "    </tr>\n",
       "    <tr>\n",
       "      <th>...</th>\n",
       "      <td>...</td>\n",
       "      <td>...</td>\n",
       "      <td>...</td>\n",
       "      <td>...</td>\n",
       "      <td>...</td>\n",
       "      <td>...</td>\n",
       "      <td>...</td>\n",
       "      <td>...</td>\n",
       "      <td>...</td>\n",
       "      <td>...</td>\n",
       "      <td>...</td>\n",
       "      <td>...</td>\n",
       "      <td>...</td>\n",
       "      <td>...</td>\n",
       "      <td>...</td>\n",
       "      <td>...</td>\n",
       "      <td>...</td>\n",
       "    </tr>\n",
       "    <tr>\n",
       "      <th>785533</th>\n",
       "      <td>Data Analyst</td>\n",
       "      <td>Data Analyst</td>\n",
       "      <td>Taguig, Metro Manila, Philippines</td>\n",
       "      <td>via LinkedIn</td>\n",
       "      <td>None</td>\n",
       "      <td>False</td>\n",
       "      <td>Philippines</td>\n",
       "      <td>2023-01-23 06:15:25</td>\n",
       "      <td>True</td>\n",
       "      <td>False</td>\n",
       "      <td>Philippines</td>\n",
       "      <td>None</td>\n",
       "      <td>NaN</td>\n",
       "      <td>NaN</td>\n",
       "      <td>HelloConnect</td>\n",
       "      <td>[sql, python, pandas, tableau, flow]</td>\n",
       "      <td>{'analyst_tools': ['tableau'], 'libraries': ['...</td>\n",
       "    </tr>\n",
       "    <tr>\n",
       "      <th>785560</th>\n",
       "      <td>Data Analyst</td>\n",
       "      <td>Data Architect | Cebu</td>\n",
       "      <td>Cebu City, Cebu, Philippines</td>\n",
       "      <td>via Kalibrr</td>\n",
       "      <td>Full-time</td>\n",
       "      <td>False</td>\n",
       "      <td>Philippines</td>\n",
       "      <td>2023-01-04 15:59:42</td>\n",
       "      <td>False</td>\n",
       "      <td>False</td>\n",
       "      <td>Philippines</td>\n",
       "      <td>None</td>\n",
       "      <td>NaN</td>\n",
       "      <td>NaN</td>\n",
       "      <td>Accenture Philippines</td>\n",
       "      <td>None</td>\n",
       "      <td>None</td>\n",
       "    </tr>\n",
       "    <tr>\n",
       "      <th>785567</th>\n",
       "      <td>Data Analyst</td>\n",
       "      <td>Data Analyst Intern</td>\n",
       "      <td>Jakarta, Indonesia</td>\n",
       "      <td>via Trabajo.org</td>\n",
       "      <td>Full-time, Part-time, and Internship</td>\n",
       "      <td>False</td>\n",
       "      <td>Indonesia</td>\n",
       "      <td>2023-12-07 06:22:51</td>\n",
       "      <td>False</td>\n",
       "      <td>False</td>\n",
       "      <td>Indonesia</td>\n",
       "      <td>None</td>\n",
       "      <td>NaN</td>\n",
       "      <td>NaN</td>\n",
       "      <td>MyEduSolve</td>\n",
       "      <td>[r, java]</td>\n",
       "      <td>{'programming': ['r', 'java']}</td>\n",
       "    </tr>\n",
       "    <tr>\n",
       "      <th>785595</th>\n",
       "      <td>Data Analyst</td>\n",
       "      <td>Data Visualization Analyst</td>\n",
       "      <td>Pasay, Metro Manila, Philippines</td>\n",
       "      <td>via Trabajo.org</td>\n",
       "      <td>Full-time</td>\n",
       "      <td>False</td>\n",
       "      <td>Philippines</td>\n",
       "      <td>2023-01-25 06:17:52</td>\n",
       "      <td>False</td>\n",
       "      <td>False</td>\n",
       "      <td>Philippines</td>\n",
       "      <td>None</td>\n",
       "      <td>NaN</td>\n",
       "      <td>NaN</td>\n",
       "      <td>TTEC</td>\n",
       "      <td>[sql, python, r, tableau, power bi]</td>\n",
       "      <td>{'analyst_tools': ['tableau', 'power bi'], 'pr...</td>\n",
       "    </tr>\n",
       "    <tr>\n",
       "      <th>785640</th>\n",
       "      <td>Data Analyst</td>\n",
       "      <td>Data Analyst Lead</td>\n",
       "      <td>Thailand</td>\n",
       "      <td>via Trabajo.org</td>\n",
       "      <td>Full-time</td>\n",
       "      <td>False</td>\n",
       "      <td>Thailand</td>\n",
       "      <td>2023-12-17 06:16:04</td>\n",
       "      <td>False</td>\n",
       "      <td>False</td>\n",
       "      <td>Thailand</td>\n",
       "      <td>None</td>\n",
       "      <td>NaN</td>\n",
       "      <td>NaN</td>\n",
       "      <td>Siam Piwat Co., Ltd.</td>\n",
       "      <td>[sql, python, pyspark, excel, spreadsheet]</td>\n",
       "      <td>{'analyst_tools': ['excel', 'spreadsheet'], 'l...</td>\n",
       "    </tr>\n",
       "  </tbody>\n",
       "</table>\n",
       "<p>16240 rows × 17 columns</p>\n",
       "</div>"
      ],
      "text/plain": [
       "       job_title_short                   job_title  \\\n",
       "76        Data Analyst  Data Analyst - 14785091749   \n",
       "101       Data Analyst                Data Analyst   \n",
       "244       Data Analyst                Data Analyst   \n",
       "328       Data Analyst        Finance Data Analyst   \n",
       "416       Data Analyst                Data Analyst   \n",
       "...                ...                         ...   \n",
       "785533    Data Analyst                Data Analyst   \n",
       "785560    Data Analyst       Data Architect | Cebu   \n",
       "785567    Data Analyst         Data Analyst Intern   \n",
       "785595    Data Analyst  Data Visualization Analyst   \n",
       "785640    Data Analyst           Data Analyst Lead   \n",
       "\n",
       "                             job_location                 job_via  \\\n",
       "76                               Anywhere           via Jobgether   \n",
       "101                             Singapore     via BeBee Singapore   \n",
       "244                             Singapore  via Singapore | JobsDB   \n",
       "328            Sepang, Selangor, Malaysia         via Trabajo.org   \n",
       "416          Cebu City, Cebu, Philippines         via Trabajo.org   \n",
       "...                                   ...                     ...   \n",
       "785533  Taguig, Metro Manila, Philippines            via LinkedIn   \n",
       "785560       Cebu City, Cebu, Philippines             via Kalibrr   \n",
       "785567                 Jakarta, Indonesia         via Trabajo.org   \n",
       "785595   Pasay, Metro Manila, Philippines         via Trabajo.org   \n",
       "785640                           Thailand         via Trabajo.org   \n",
       "\n",
       "                           job_schedule_type  job_work_from_home  \\\n",
       "76                                 Full-time                True   \n",
       "101                                Full-time               False   \n",
       "244                                Full-time               False   \n",
       "328                                Full-time               False   \n",
       "416                                Full-time               False   \n",
       "...                                      ...                 ...   \n",
       "785533                                  None               False   \n",
       "785560                             Full-time               False   \n",
       "785567  Full-time, Part-time, and Internship               False   \n",
       "785595                             Full-time               False   \n",
       "785640                             Full-time               False   \n",
       "\n",
       "       search_location     job_posted_date  job_no_degree_mention  \\\n",
       "76         Philippines 2023-08-26 13:13:26                  False   \n",
       "101          Singapore 2023-12-20 13:15:45                   True   \n",
       "244          Singapore 2023-10-11 13:17:59                   True   \n",
       "328           Malaysia 2023-07-14 13:11:55                   True   \n",
       "416        Philippines 2023-02-28 13:29:02                   True   \n",
       "...                ...                 ...                    ...   \n",
       "785533     Philippines 2023-01-23 06:15:25                   True   \n",
       "785560     Philippines 2023-01-04 15:59:42                  False   \n",
       "785567       Indonesia 2023-12-07 06:22:51                  False   \n",
       "785595     Philippines 2023-01-25 06:17:52                  False   \n",
       "785640        Thailand 2023-12-17 06:16:04                  False   \n",
       "\n",
       "        job_health_insurance  job_country salary_rate  salary_year_avg  \\\n",
       "76                     False  Philippines        None              NaN   \n",
       "101                    False    Singapore        None              NaN   \n",
       "244                    False    Singapore        None              NaN   \n",
       "328                    False     Malaysia        None              NaN   \n",
       "416                    False  Philippines        None              NaN   \n",
       "...                      ...          ...         ...              ...   \n",
       "785533                 False  Philippines        None              NaN   \n",
       "785560                 False  Philippines        None              NaN   \n",
       "785567                 False    Indonesia        None              NaN   \n",
       "785595                 False  Philippines        None              NaN   \n",
       "785640                 False     Thailand        None              NaN   \n",
       "\n",
       "        salary_hour_avg           company_name  \\\n",
       "76                  NaN       Support Shepherd   \n",
       "101                 NaN                 Moovaz   \n",
       "244                 NaN                   SATS   \n",
       "328                 NaN                AirAsia   \n",
       "416                 NaN         LegalMatch.com   \n",
       "...                 ...                    ...   \n",
       "785533              NaN           HelloConnect   \n",
       "785560              NaN  Accenture Philippines   \n",
       "785567              NaN             MyEduSolve   \n",
       "785595              NaN                   TTEC   \n",
       "785640              NaN   Siam Piwat Co., Ltd.   \n",
       "\n",
       "                                               job_skills  \\\n",
       "76             [sql, python, r, excel, tableau, power bi]   \n",
       "101                                                 [sql]   \n",
       "244                         [sql, nosql, azure, power bi]   \n",
       "328                                          [sql, excel]   \n",
       "416     [sql, javascript, python, java, excel, looker,...   \n",
       "...                                                   ...   \n",
       "785533               [sql, python, pandas, tableau, flow]   \n",
       "785560                                               None   \n",
       "785567                                          [r, java]   \n",
       "785595                [sql, python, r, tableau, power bi]   \n",
       "785640         [sql, python, pyspark, excel, spreadsheet]   \n",
       "\n",
       "                                          job_type_skills  \n",
       "76      {'analyst_tools': ['excel', 'tableau', 'power ...  \n",
       "101                              {'programming': ['sql']}  \n",
       "244     {'analyst_tools': ['power bi'], 'cloud': ['azu...  \n",
       "328     {'analyst_tools': ['excel'], 'programming': ['...  \n",
       "416     {'analyst_tools': ['excel', 'looker', 'tableau...  \n",
       "...                                                   ...  \n",
       "785533  {'analyst_tools': ['tableau'], 'libraries': ['...  \n",
       "785560                                               None  \n",
       "785567                     {'programming': ['r', 'java']}  \n",
       "785595  {'analyst_tools': ['tableau', 'power bi'], 'pr...  \n",
       "785640  {'analyst_tools': ['excel', 'spreadsheet'], 'l...  \n",
       "\n",
       "[16240 rows x 17 columns]"
      ]
     },
     "execution_count": 8,
     "metadata": {},
     "output_type": "execute_result"
    }
   ],
   "source": [
    "df_DA_SEA = df[\n",
    "    (df['job_country'].isin(asean_countries)) & \n",
    "    (df['job_title_short'] == 'Data Analyst')\n",
    "].copy()\n",
    "\n",
    "df_DA_SEA"
   ]
  },
  {
   "cell_type": "markdown",
   "metadata": {},
   "source": [
    "2. `ASEAN Countries` to explore "
   ]
  },
  {
   "cell_type": "code",
   "execution_count": 9,
   "metadata": {},
   "outputs": [
    {
     "data": {
      "text/html": [
       "<div>\n",
       "<style scoped>\n",
       "    .dataframe tbody tr th:only-of-type {\n",
       "        vertical-align: middle;\n",
       "    }\n",
       "\n",
       "    .dataframe tbody tr th {\n",
       "        vertical-align: top;\n",
       "    }\n",
       "\n",
       "    .dataframe thead th {\n",
       "        text-align: right;\n",
       "    }\n",
       "</style>\n",
       "<table border=\"1\" class=\"dataframe\">\n",
       "  <thead>\n",
       "    <tr style=\"text-align: right;\">\n",
       "      <th></th>\n",
       "      <th>count</th>\n",
       "    </tr>\n",
       "    <tr>\n",
       "      <th>job_country</th>\n",
       "      <th></th>\n",
       "    </tr>\n",
       "  </thead>\n",
       "  <tbody>\n",
       "    <tr>\n",
       "      <th>Singapore</th>\n",
       "      <td>6632</td>\n",
       "    </tr>\n",
       "    <tr>\n",
       "      <th>Philippines</th>\n",
       "      <td>4766</td>\n",
       "    </tr>\n",
       "    <tr>\n",
       "      <th>Malaysia</th>\n",
       "      <td>2527</td>\n",
       "    </tr>\n",
       "    <tr>\n",
       "      <th>Thailand</th>\n",
       "      <td>1477</td>\n",
       "    </tr>\n",
       "    <tr>\n",
       "      <th>Indonesia</th>\n",
       "      <td>461</td>\n",
       "    </tr>\n",
       "    <tr>\n",
       "      <th>Vietnam</th>\n",
       "      <td>334</td>\n",
       "    </tr>\n",
       "    <tr>\n",
       "      <th>Cambodia</th>\n",
       "      <td>23</td>\n",
       "    </tr>\n",
       "    <tr>\n",
       "      <th>Myanmar</th>\n",
       "      <td>17</td>\n",
       "    </tr>\n",
       "    <tr>\n",
       "      <th>Laos</th>\n",
       "      <td>3</td>\n",
       "    </tr>\n",
       "  </tbody>\n",
       "</table>\n",
       "</div>"
      ],
      "text/plain": [
       "             count\n",
       "job_country       \n",
       "Singapore     6632\n",
       "Philippines   4766\n",
       "Malaysia      2527\n",
       "Thailand      1477\n",
       "Indonesia      461\n",
       "Vietnam        334\n",
       "Cambodia        23\n",
       "Myanmar         17\n",
       "Laos             3"
      ]
     },
     "execution_count": 9,
     "metadata": {},
     "output_type": "execute_result"
    }
   ],
   "source": [
    "df_plot = df_DA_SEA['job_country'].value_counts().head(10).to_frame()\n",
    "\n",
    "df_plot"
   ]
  },
  {
   "cell_type": "code",
   "execution_count": 10,
   "metadata": {},
   "outputs": [
    {
     "data": {
      "text/plain": [
       "Text(0, 0.5, '')"
      ]
     },
     "execution_count": 10,
     "metadata": {},
     "output_type": "execute_result"
    },
    {
     "data": {
      "image/png": "[encoded data removed]",
      "text/plain": [
       "<Figure size 640x480 with 1 Axes>"
      ]
     },
     "metadata": {},
     "output_type": "display_data"
    }
   ],
   "source": [
    "sns.barplot(\n",
    "    data=df_plot,\n",
    "    x= 'count',\n",
    "    y= 'job_country',\n",
    "    hue = 'count',\n",
    "    palette = 'dark:b_r',\n",
    "    legend= ''\n",
    "    )\n",
    "\n",
    "sns.despine() # remove the upper border and right border of the chart area.\n",
    "plt.title('Number of DA Jobs in ASEAN countries')\n",
    "plt.xlabel('Number of Jobs')\n",
    "plt.ylabel('')\n",
    "\n"
   ]
  },
  {
   "cell_type": "markdown",
   "metadata": {},
   "source": [
    "3. Job Opportunities"
   ]
  },
  {
   "cell_type": "markdown",
   "metadata": {},
   "source": [
    "- Copy the code from [04.02. MatPlotLib_Pie_Plots](../04.%20MatPlotLib%20Advanced/04.02.%20MatPlotLib_Pie_Plots.ipynb)"
   ]
  },
  {
   "cell_type": "code",
   "execution_count": 15,
   "metadata": {},
   "outputs": [
    {
     "data": {
      "image/png": "[encoded data removed]",
      "text/plain": [
       "<Figure size 1200x500 with 3 Axes>"
      ]
     },
     "metadata": {},
     "output_type": "display_data"
    }
   ],
   "source": [
    "fig, ax = plt.subplots(1,3)\n",
    "fig.set_size_inches((12,5))\n",
    "dict_column = {\n",
    "    'job_work_from_home':'Work From Home',\n",
    "    'job_no_degree_mention':'Job Degree Req.',\n",
    "    'job_health_insurance':'Health Insurance Offered'\n",
    "}\n",
    "\n",
    "for i, (column, title) in enumerate(dict_column.items()): # enumerate turns key-value pairs into tuples\n",
    "    ax[i].pie(df_DA_SEA[column].value_counts(),startangle=90, autopct= '%1.1f%%')\n",
    "    ax[i].set_title(title)"
   ]
  },
  {
   "cell_type": "markdown",
   "metadata": {},
   "source": [
    "4. `Companies` to explore"
   ]
  },
  {
   "cell_type": "code",
   "execution_count": 22,
   "metadata": {},
   "outputs": [
    {
     "data": {
      "text/plain": [
       "Text(0, 0.5, '')"
      ]
     },
     "execution_count": 22,
     "metadata": {},
     "output_type": "execute_result"
    },
    {
     "data": {
      "image/png": "[encoded data removed]",
      "text/plain": [
       "<Figure size 640x480 with 1 Axes>"
      ]
     },
     "metadata": {},
     "output_type": "display_data"
    }
   ],
   "source": [
    "df_plot1 = df_DA_SEA['company_name'].value_counts().head(10).to_frame()\n",
    "\n",
    "sns.barplot(\n",
    "    data=df_plot1,\n",
    "    x= 'count',\n",
    "    y= 'company_name',\n",
    "    hue = 'count',\n",
    "    palette = 'dark:b_r',\n",
    "    legend= ''\n",
    "    )\n",
    "\n",
    "sns.despine() # remove the upper border and right border of the chart area.\n",
    "plt.title('Number of job postings per company in ASEAN')\n",
    "plt.xlabel('Number of Jobs')\n",
    "plt.ylabel('')"
   ]
  }
 ],
 "metadata": {
  "kernelspec": {
   "display_name": "Python 3",
   "language": "python",
   "name": "python3"
  },
  "language_info": {
   "codemirror_mode": {
    "name": "ipython",
    "version": 3
   },
   "file_extension": ".py",
   "mimetype": "text/x-python",
   "name": "python",
   "nbconvert_exporter": "python",
   "pygments_lexer": "ipython3",
   "version": "3.11.7"
  }
 },
 "nbformat": 4,
 "nbformat_minor": 2
}
